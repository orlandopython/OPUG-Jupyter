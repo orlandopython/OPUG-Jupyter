{
 "cells": [
  {
   "cell_type": "markdown",
   "metadata": {
    "collapsed": true
   },
   "source": [
    "# Most Popular US Names"
   ]
  },
  {
   "cell_type": "markdown",
   "metadata": {},
   "source": [
    "## Reading in the Data"
   ]
  },
  {
   "cell_type": "markdown",
   "metadata": {},
   "source": [
    "###### First we need to read in the data from all of the input files\n",
    "Each file contains data for a different year - *yob1880.txt, yob1881.txt* etc.  We want to combine all of the data from each file as well as pull off the year from the filename and add it to a column."
   ]
  },
  {
   "cell_type": "code",
   "execution_count": 9,
   "metadata": {
    "collapsed": true
   },
   "outputs": [],
   "source": [
    "# The glob library will allow us to get a list of filenames that match\n",
    "# a Unix path with wildcards\n",
    "import glob, os\n",
    "import pandas as pd\n",
    "# These two lines allow inline plotting of graphs within Jupyter\n",
    "%matplotlib inline\n",
    "import matplotlib.pyplot as plt\n",
    "\n",
    "# This function will create the data frame object\n",
    "def get_names_data():\n",
    "    frame_array = []\n",
    "    # Get a list of all of the txt files in names/\n",
    "    files = glob.glob(os.path.join('names','*.txt'))\n",
    "    for file in files:\n",
    "        # We need to parse the filename for the year\n",
    "        start_index = file.find('yob')+3\n",
    "        year = int(file[start_index:start_index+4])\n",
    "        tmp = pd.read_csv(file, names=['name','gender','births'])\n",
    "        # Add the year as a column\n",
    "        tmp['year'] = year\n",
    "        frame_array.append(tmp)\n",
    "    \n",
    "    names = pd.concat(frame_array, ignore_index=True)\n",
    "    return names"
   ]
  },
  {
   "cell_type": "code",
   "execution_count": 2,
   "metadata": {
    "collapsed": false
   },
   "outputs": [
    {
     "name": "stdout",
     "output_type": "stream",
     "text": [
      "        name gender  births  year\n",
      "0       Mary      F    7065  1880\n",
      "1       Anna      F    2604  1880\n",
      "2       Emma      F    2003  1880\n",
      "3  Elizabeth      F    1939  1880\n",
      "4     Minnie      F    1746  1880\n"
     ]
    }
   ],
   "source": [
    "names = get_names_data()\n",
    "print(names.head())"
   ]
  },
  {
   "cell_type": "markdown",
   "metadata": {},
   "source": [
    "## What are the 10 most popular names since 1880?"
   ]
  },
  {
   "cell_type": "markdown",
   "metadata": {},
   "source": [
    "###### We want to groupby name and sum the births, ignoring year and gender (for now).\n",
    "How many unique names are in this data set?"
   ]
  },
  {
   "cell_type": "code",
   "execution_count": 3,
   "metadata": {
    "collapsed": false
   },
   "outputs": [
    {
     "name": "stdout",
     "output_type": "stream",
     "text": [
      "95025\n"
     ]
    }
   ],
   "source": [
    "print(len(names.name.unique()))"
   ]
  },
  {
   "cell_type": "code",
   "execution_count": 4,
   "metadata": {
    "collapsed": false
   },
   "outputs": [
    {
     "name": "stdout",
     "output_type": "stream",
     "text": [
      "        name  births\n",
      "0       Mary    7065\n",
      "1       Anna    2604\n",
      "2       Emma    2003\n",
      "3  Elizabeth    1939\n",
      "4     Minnie    1746\n",
      "1858689\n"
     ]
    }
   ],
   "source": [
    "name_birth = names[['name','births']]\n",
    "print(name_birth.head())\n",
    "print(len(name_birth))"
   ]
  },
  {
   "cell_type": "markdown",
   "metadata": {},
   "source": [
    "###### If we group by name we should end with the same number as unique names above"
   ]
  },
  {
   "cell_type": "code",
   "execution_count": 5,
   "metadata": {
    "collapsed": false
   },
   "outputs": [
    {
     "name": "stdout",
     "output_type": "stream",
     "text": [
      "95025\n"
     ]
    }
   ],
   "source": [
    "grps = name_birth.groupby('name')\n",
    "print(len(grps))"
   ]
  },
  {
   "cell_type": "markdown",
   "metadata": {},
   "source": [
    "###### Now we'd like to do an aggregate sum of this grouping, and output in descencing order"
   ]
  },
  {
   "cell_type": "code",
   "execution_count": 6,
   "metadata": {
    "collapsed": false
   },
   "outputs": [
    {
     "name": "stdout",
     "output_type": "stream",
     "text": [
      "          births\n",
      "name            \n",
      "James    5144205\n",
      "John     5117331\n",
      "Robert   4823167\n",
      "Michael  4345569\n",
      "Mary     4133216\n",
      "William  4087556\n",
      "David    3602623\n",
      "Joseph   2592388\n",
      "Richard  2567700\n",
      "Charles  2383998\n"
     ]
    }
   ],
   "source": [
    "print(grps.sum().sort_values('births', ascending=False).head(10))"
   ]
  },
  {
   "cell_type": "markdown",
   "metadata": {},
   "source": [
    "## How many people were born each year?"
   ]
  },
  {
   "cell_type": "code",
   "execution_count": 7,
   "metadata": {
    "collapsed": false
   },
   "outputs": [],
   "source": [
    "births = names.groupby('year').sum()"
   ]
  },
  {
   "cell_type": "code",
   "execution_count": 10,
   "metadata": {
    "collapsed": false
   },
   "outputs": [
    {
     "data": {
      "text/plain": [
       "<matplotlib.axes._subplots.AxesSubplot at 0x120539908>"
      ]
     },
     "execution_count": 10,
     "metadata": {},
     "output_type": "execute_result"
    },
    {
     "data": {
      "image/png": "[encoded data removed]",
      "text/plain": [
       "<matplotlib.figure.Figure at 0x1103a5e48>"
      ]
     },
     "metadata": {},
     "output_type": "display_data"
    }
   ],
   "source": [
    "births.plot(kind='line')"
   ]
  },
  {
   "cell_type": "markdown",
   "metadata": {},
   "source": [
    "###### How many males named Jesus were born each year"
   ]
  },
  {
   "cell_type": "code",
   "execution_count": 11,
   "metadata": {
    "collapsed": false
   },
   "outputs": [
    {
     "data": {
      "text/plain": [
       "<matplotlib.axes._subplots.AxesSubplot at 0x10cc57f28>"
      ]
     },
     "execution_count": 11,
     "metadata": {},
     "output_type": "execute_result"
    },
    {
     "data": {
      "image/png": "[encoded data removed]",
      "text/plain": [
       "<matplotlib.figure.Figure at 0x1110e8710>"
      ]
     },
     "metadata": {},
     "output_type": "display_data"
    }
   ],
   "source": [
    "mask1 = names['name'] == 'Jesus'\n",
    "mask2 = names['gender'] == 'M'\n",
    "names[(mask1) & (mask2)].groupby('year').sum().plot()"
   ]
  },
  {
   "cell_type": "markdown",
   "metadata": {},
   "source": [
    "## The groupby function - *pivot_table*"
   ]
  },
  {
   "cell_type": "code",
   "execution_count": 12,
   "metadata": {
    "collapsed": false
   },
   "outputs": [
    {
     "name": "stdout",
     "output_type": "stream",
     "text": [
      "        name gender  births  year\n",
      "0       Mary      F    7065  1880\n",
      "1       Anna      F    2604  1880\n",
      "2       Emma      F    2003  1880\n",
      "3  Elizabeth      F    1939  1880\n",
      "4     Minnie      F    1746  1880\n"
     ]
    }
   ],
   "source": [
    "print(names.head())"
   ]
  },
  {
   "cell_type": "markdown",
   "metadata": {},
   "source": [
    "######  We want:\n",
    "* the row index to be year\n",
    "* gender as the column headings\n",
    "* the value of the table to be the sum of births\n",
    "\n",
    "We need the sum (or another aggregate mesure) because we are dropping the name group"
   ]
  },
  {
   "cell_type": "code",
   "execution_count": 15,
   "metadata": {
    "collapsed": false
   },
   "outputs": [
    {
     "name": "stdout",
     "output_type": "stream",
     "text": [
      "gender       F       M\n",
      "year                  \n",
      "1880     90992  110490\n",
      "1881     91953  100743\n",
      "1882    107848  113686\n",
      "1883    112318  104627\n",
      "1884    129020  114443\n"
     ]
    }
   ],
   "source": [
    "# Pivot table args: index is row\n",
    "births_by_gender = pd.pivot_table(names, values='births', \n",
    "                                  index='year', \n",
    "                                  columns='gender', aggfunc=sum)\n",
    "print(births_by_gender.head())"
   ]
  },
  {
   "cell_type": "code",
   "execution_count": 16,
   "metadata": {
    "collapsed": false
   },
   "outputs": [
    {
     "data": {
      "text/plain": [
       "<matplotlib.axes._subplots.AxesSubplot at 0x1281c8dd8>"
      ]
     },
     "execution_count": 16,
     "metadata": {},
     "output_type": "execute_result"
    },
    {
     "data": {
      "image/png": "[encoded data removed]",
      "text/plain": [
       "<matplotlib.figure.Figure at 0x113139eb8>"
      ]
     },
     "metadata": {},
     "output_type": "display_data"
    }
   ],
   "source": [
    "births_by_gender.plot()\n",
    "#plt.show()"
   ]
  },
  {
   "cell_type": "code",
   "execution_count": null,
   "metadata": {
    "collapsed": true
   },
   "outputs": [],
   "source": []
  }
 ],
 "metadata": {
  "kernelspec": {
   "display_name": "Python 3",
   "language": "python",
   "name": "python3"
  },
  "language_info": {
   "codemirror_mode": {
    "name": "ipython",
    "version": 3
   },
   "file_extension": ".py",
   "mimetype": "text/x-python",
   "name": "python",
   "nbconvert_exporter": "python",
   "pygments_lexer": "ipython3",
   "version": "3.5.1"
  }
 },
 "nbformat": 4,
 "nbformat_minor": 0
}
