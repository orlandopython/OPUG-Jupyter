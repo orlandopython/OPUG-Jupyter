{
 "cells": [
  {
   "cell_type": "markdown",
   "metadata": {},
   "source": [
    "# Basic Overview of Pandas"
   ]
  },
  {
   "cell_type": "markdown",
   "metadata": {},
   "source": [
    "###### Importing pandas (Python Data Analysis Library), and numpy (Scientific Computing package)"
   ]
  },
  {
   "cell_type": "code",
   "execution_count": 2,
   "metadata": {
    "collapsed": true
   },
   "outputs": [],
   "source": [
    "import pandas as pd\n",
    "import numpy as np"
   ]
  },
  {
   "cell_type": "markdown",
   "metadata": {},
   "source": [
    "###### Creating a Data Frame object, usually this will be read from csv or json"
   ]
  },
  {
   "cell_type": "code",
   "execution_count": 3,
   "metadata": {
    "collapsed": true
   },
   "outputs": [],
   "source": [
    "names = ['Jon', 'Matt', 'Sarah', 'Ashley', 'Sam']\n",
    "ids = [23, 34, 83, 86, 12]\n",
    "sales = [10.2, 84.3, 72.9, 27.1, 223.1]\n",
    "department = ['A','A','B','B','B']\n",
    "\n",
    "users = pd.DataFrame({'id': ids,\n",
    "                      'name': names,\n",
    "                      'sales': sales,\n",
    "                      'dept': department})"
   ]
  },
  {
   "cell_type": "markdown",
   "metadata": {},
   "source": [
    "###### dataframe.head(n=5) returns the first n rows, default is 5"
   ]
  },
  {
   "cell_type": "code",
   "execution_count": 4,
   "metadata": {
    "collapsed": false
   },
   "outputs": [
    {
     "name": "stdout",
     "output_type": "stream",
     "text": [
      "  dept  id    name  sales\n",
      "0    A  23     Jon   10.2\n",
      "1    A  34    Matt   84.3\n",
      "2    B  83   Sarah   72.9\n",
      "3    B  86  Ashley   27.1\n",
      "4    B  12     Sam  223.1\n"
     ]
    }
   ],
   "source": [
    "print(users.head())"
   ]
  },
  {
   "cell_type": "code",
   "execution_count": 5,
   "metadata": {
    "collapsed": true
   },
   "outputs": [],
   "source": [
    "users = users.reindex(columns=['name','id','dept','sales'])"
   ]
  },
  {
   "cell_type": "code",
   "execution_count": 6,
   "metadata": {
    "collapsed": false
   },
   "outputs": [
    {
     "name": "stdout",
     "output_type": "stream",
     "text": [
      "     name  id dept  sales\n",
      "0     Jon  23    A   10.2\n",
      "1    Matt  34    A   84.3\n",
      "2   Sarah  83    B   72.9\n",
      "3  Ashley  86    B   27.1\n",
      "4     Sam  12    B  223.1\n"
     ]
    }
   ],
   "source": [
    "print(users)"
   ]
  },
  {
   "cell_type": "markdown",
   "metadata": {},
   "source": [
    "### What are the total sales per dept?"
   ]
  },
  {
   "cell_type": "markdown",
   "metadata": {},
   "source": [
    "###### First, we can get a subset of the columns since we only need **sales** and **dept**, by indexing"
   ]
  },
  {
   "cell_type": "code",
   "execution_count": 7,
   "metadata": {
    "collapsed": false
   },
   "outputs": [
    {
     "name": "stdout",
     "output_type": "stream",
     "text": [
      "  dept  sales\n",
      "0    A   10.2\n",
      "1    A   84.3\n",
      "2    B   72.9\n",
      "3    B   27.1\n",
      "4    B  223.1\n"
     ]
    }
   ],
   "source": [
    "dept_sales = users[['dept','sales']]\n",
    "print(dept_sales)"
   ]
  },
  {
   "cell_type": "markdown",
   "metadata": {},
   "source": [
    "###### We want to group by dept and sum the sales"
   ]
  },
  {
   "cell_type": "code",
   "execution_count": 8,
   "metadata": {
    "collapsed": false
   },
   "outputs": [
    {
     "name": "stdout",
     "output_type": "stream",
     "text": [
      "  dept  sales\n",
      "0    A   10.2\n",
      "1    A   84.3\n",
      "2    B   72.9\n",
      "3    B   27.1\n",
      "4    B  223.1\n"
     ]
    }
   ],
   "source": [
    "grp_dept_sales = dept_sales.groupby('dept')\n",
    "print(grp_dept_sales.head())"
   ]
  },
  {
   "cell_type": "markdown",
   "metadata": {},
   "source": [
    "###### What do groups look like?"
   ]
  },
  {
   "cell_type": "code",
   "execution_count": 9,
   "metadata": {
    "collapsed": false
   },
   "outputs": [
    {
     "name": "stdout",
     "output_type": "stream",
     "text": [
      "{'B': [2, 3, 4], 'A': [0, 1]}\n"
     ]
    }
   ],
   "source": [
    "print(grp_dept_sales.groups)"
   ]
  },
  {
   "cell_type": "code",
   "execution_count": 10,
   "metadata": {
    "collapsed": false
   },
   "outputs": [
    {
     "name": "stdout",
     "output_type": "stream",
     "text": [
      "A <class 'pandas.core.frame.DataFrame'>\n",
      "  dept  sales\n",
      "0    A   10.2\n",
      "1    A   84.3\n",
      "B <class 'pandas.core.frame.DataFrame'>\n",
      "  dept  sales\n",
      "2    B   72.9\n",
      "3    B   27.1\n",
      "4    B  223.1\n"
     ]
    }
   ],
   "source": [
    "for key, value in grp_dept_sales:\n",
    "    print(key, type(value))\n",
    "    print(value)"
   ]
  },
  {
   "cell_type": "markdown",
   "metadata": {},
   "source": [
    "###### Apply an aggregate function to the groups, for example sum"
   ]
  },
  {
   "cell_type": "code",
   "execution_count": 11,
   "metadata": {
    "collapsed": false
   },
   "outputs": [
    {
     "name": "stdout",
     "output_type": "stream",
     "text": [
      "      sales\n",
      "dept       \n",
      "A      94.5\n",
      "B     323.1\n"
     ]
    }
   ],
   "source": [
    "print(grp_dept_sales.sum())"
   ]
  },
  {
   "cell_type": "markdown",
   "metadata": {},
   "source": [
    "###### Could have done groupby and sum together:"
   ]
  },
  {
   "cell_type": "code",
   "execution_count": 12,
   "metadata": {
    "collapsed": false
   },
   "outputs": [
    {
     "name": "stdout",
     "output_type": "stream",
     "text": [
      "      sales\n",
      "dept       \n",
      "A      94.5\n",
      "B     323.1\n"
     ]
    }
   ],
   "source": [
    "print(dept_sales.groupby('dept').sum())"
   ]
  },
  {
   "cell_type": "markdown",
   "metadata": {},
   "source": [
    "###### There are other agrregate methods for mean, median, min, max, etc."
   ]
  },
  {
   "cell_type": "code",
   "execution_count": 13,
   "metadata": {
    "collapsed": false
   },
   "outputs": [
    {
     "name": "stdout",
     "output_type": "stream",
     "text": [
      "      sales\n",
      "dept       \n",
      "A      84.3\n",
      "B     223.1\n"
     ]
    }
   ],
   "source": [
    "print(grp_dept_sales.max())"
   ]
  },
  {
   "cell_type": "markdown",
   "metadata": {},
   "source": [
    "###### You can also pass a list of aggregate function names to agg()"
   ]
  },
  {
   "cell_type": "code",
   "execution_count": 15,
   "metadata": {
    "collapsed": false
   },
   "outputs": [
    {
     "name": "stdout",
     "output_type": "stream",
     "text": [
      "      sales                                                              \n",
      "        sum count    mean median   min    max         std        var size\n",
      "dept                                                                     \n",
      "A      94.5     2   47.25  47.25  10.2   84.3   52.396612   2745.405  2.0\n",
      "B     323.1     3  107.70  72.90  27.1  223.1  102.529410  10512.280  3.0\n"
     ]
    }
   ],
   "source": [
    "print(grp_dept_sales.agg(['sum', 'count', 'mean','median','min','max','std','var', np.size]))"
   ]
  },
  {
   "cell_type": "code",
   "execution_count": null,
   "metadata": {
    "collapsed": true
   },
   "outputs": [],
   "source": []
  }
 ],
 "metadata": {
  "kernelspec": {
   "display_name": "Python 3",
   "language": "python",
   "name": "python3"
  },
  "language_info": {
   "codemirror_mode": {
    "name": "ipython",
    "version": 3
   },
   "file_extension": ".py",
   "mimetype": "text/x-python",
   "name": "python",
   "nbconvert_exporter": "python",
   "pygments_lexer": "ipython3",
   "version": "3.5.1"
  }
 },
 "nbformat": 4,
 "nbformat_minor": 0
}
